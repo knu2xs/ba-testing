{
 "cells": [
  {
   "cell_type": "code",
   "execution_count": 1,
   "metadata": {},
   "outputs": [],
   "source": [
    "from arcgis.gis import GIS"
   ]
  },
  {
   "cell_type": "code",
   "execution_count": 9,
   "metadata": {},
   "outputs": [
    {
     "ename": "AttributeError",
     "evalue": "'NoneType' object has no attribute 'lower'",
     "output_type": "error",
     "traceback": [
      "\u001b[1;31m---------------------------------------------------------------------------\u001b[0m",
      "\u001b[1;31mAttributeError\u001b[0m                            Traceback (most recent call last)",
      "\u001b[1;32m<ipython-input-9-9f7ce946fbb6>\u001b[0m in \u001b[0;36m<module>\u001b[1;34m\u001b[0m\n\u001b[1;32m----> 1\u001b[1;33m \u001b[0mgis\u001b[0m \u001b[1;33m=\u001b[0m \u001b[0mGIS\u001b[0m\u001b[1;33m(\u001b[0m\u001b[0mprofile\u001b[0m\u001b[1;33m=\u001b[0m\u001b[1;34m'agol'\u001b[0m\u001b[1;33m)\u001b[0m\u001b[1;33m\u001b[0m\u001b[1;33m\u001b[0m\u001b[0m\n\u001b[0m\u001b[0;32m      2\u001b[0m \u001b[1;33m\u001b[0m\u001b[0m\n\u001b[0;32m      3\u001b[0m \u001b[0mgis\u001b[0m\u001b[1;33m\u001b[0m\u001b[1;33m\u001b[0m\u001b[0m\n",
      "\u001b[1;32m~\\.conda\\envs\\arcgis\\lib\\site-packages\\arcgis\\gis\\__init__.py\u001b[0m in \u001b[0;36m__init__\u001b[1;34m(self, url, username, password, key_file, cert_file, verify_cert, set_active, client_id, profile, **kwargs)\u001b[0m\n\u001b[0;32m    505\u001b[0m                 )\n\u001b[0;32m    506\u001b[0m             \u001b[1;32melse\u001b[0m\u001b[1;33m:\u001b[0m\u001b[1;33m\u001b[0m\u001b[1;33m\u001b[0m\u001b[0m\n\u001b[1;32m--> 507\u001b[1;33m                 \u001b[1;32mraise\u001b[0m \u001b[0me\u001b[0m\u001b[1;33m\u001b[0m\u001b[1;33m\u001b[0m\u001b[0m\n\u001b[0m\u001b[0;32m    508\u001b[0m         \u001b[1;32mtry\u001b[0m\u001b[1;33m:\u001b[0m\u001b[1;33m\u001b[0m\u001b[1;33m\u001b[0m\u001b[0m\n\u001b[0;32m    509\u001b[0m             if (\n",
      "\u001b[1;32m~\\.conda\\envs\\arcgis\\lib\\site-packages\\arcgis\\gis\\__init__.py\u001b[0m in \u001b[0;36m__init__\u001b[1;34m(self, url, username, password, key_file, cert_file, verify_cert, set_active, client_id, profile, **kwargs)\u001b[0m\n\u001b[0;32m    446\u001b[0m             \u001b[0mself\u001b[0m\u001b[1;33m.\u001b[0m\u001b[0m_expiration\u001b[0m \u001b[1;33m=\u001b[0m \u001b[1;36m60\u001b[0m\u001b[1;33m\u001b[0m\u001b[1;33m\u001b[0m\u001b[0m\n\u001b[0;32m    447\u001b[0m         \u001b[1;32mtry\u001b[0m\u001b[1;33m:\u001b[0m\u001b[1;33m\u001b[0m\u001b[1;33m\u001b[0m\u001b[0m\n\u001b[1;32m--> 448\u001b[1;33m             self._portal = _portalpy.Portal(\n\u001b[0m\u001b[0;32m    449\u001b[0m                 \u001b[0mself\u001b[0m\u001b[1;33m.\u001b[0m\u001b[0m_url\u001b[0m\u001b[1;33m,\u001b[0m\u001b[1;33m\u001b[0m\u001b[1;33m\u001b[0m\u001b[0m\n\u001b[0;32m    450\u001b[0m                 \u001b[0mself\u001b[0m\u001b[1;33m.\u001b[0m\u001b[0m_username\u001b[0m\u001b[1;33m,\u001b[0m\u001b[1;33m\u001b[0m\u001b[1;33m\u001b[0m\u001b[0m\n",
      "\u001b[1;32m~\\.conda\\envs\\arcgis\\lib\\site-packages\\arcgis\\gis\\_impl\\_portalpy.py\u001b[0m in \u001b[0;36m__init__\u001b[1;34m(self, url, username, password, key_file, cert_file, expiration, referer, proxy_host, proxy_port, connection, workdir, tokenurl, verify_cert, client_id, custom_auth, token, **kwargs)\u001b[0m\n\u001b[0;32m    201\u001b[0m                 \u001b[1;32mif\u001b[0m \u001b[0mtoken\u001b[0m \u001b[1;33m==\u001b[0m \u001b[0mapi_key\u001b[0m\u001b[1;33m:\u001b[0m\u001b[1;33m\u001b[0m\u001b[1;33m\u001b[0m\u001b[0m\n\u001b[0;32m    202\u001b[0m                     \u001b[0mtoken\u001b[0m \u001b[1;33m=\u001b[0m \u001b[1;32mNone\u001b[0m\u001b[1;33m\u001b[0m\u001b[1;33m\u001b[0m\u001b[0m\n\u001b[1;32m--> 203\u001b[1;33m                 self.con = Connection(\n\u001b[0m\u001b[0;32m    204\u001b[0m                     \u001b[0mbaseurl\u001b[0m\u001b[1;33m=\u001b[0m\u001b[0mself\u001b[0m\u001b[1;33m.\u001b[0m\u001b[0mresturl\u001b[0m\u001b[1;33m,\u001b[0m\u001b[1;33m\u001b[0m\u001b[1;33m\u001b[0m\u001b[0m\n\u001b[0;32m    205\u001b[0m                     \u001b[0mtokenurl\u001b[0m\u001b[1;33m=\u001b[0m\u001b[0mtokenurl\u001b[0m\u001b[1;33m,\u001b[0m\u001b[1;33m\u001b[0m\u001b[1;33m\u001b[0m\u001b[0m\n",
      "\u001b[1;32m~\\.conda\\envs\\arcgis\\lib\\site-packages\\arcgis\\gis\\_impl\\_con\\_connection.py\u001b[0m in \u001b[0;36m__init__\u001b[1;34m(self, baseurl, username, password, **kwargs)\u001b[0m\n\u001b[0;32m    301\u001b[0m             \u001b[0mself\u001b[0m\u001b[1;33m.\u001b[0m\u001b[0m_session\u001b[0m \u001b[1;33m=\u001b[0m \u001b[0mself\u001b[0m\u001b[1;33m.\u001b[0m\u001b[0m_portal_connection\u001b[0m\u001b[1;33m.\u001b[0m\u001b[0m_session\u001b[0m\u001b[1;33m\u001b[0m\u001b[1;33m\u001b[0m\u001b[0m\n\u001b[0;32m    302\u001b[0m         \u001b[1;32melse\u001b[0m\u001b[1;33m:\u001b[0m\u001b[1;33m\u001b[0m\u001b[1;33m\u001b[0m\u001b[0m\n\u001b[1;32m--> 303\u001b[1;33m             \u001b[0mself\u001b[0m\u001b[1;33m.\u001b[0m\u001b[0m_create_session\u001b[0m\u001b[1;33m(\u001b[0m\u001b[1;33m)\u001b[0m\u001b[1;33m\u001b[0m\u001b[1;33m\u001b[0m\u001b[0m\n\u001b[0m\u001b[0;32m    304\u001b[0m \u001b[1;33m\u001b[0m\u001b[0m\n\u001b[0;32m    305\u001b[0m         \u001b[1;31m#  Product Info\u001b[0m\u001b[1;33m\u001b[0m\u001b[1;33m\u001b[0m\u001b[0m\n",
      "\u001b[1;32m~\\.conda\\envs\\arcgis\\lib\\site-packages\\arcgis\\gis\\_impl\\_con\\_connection.py\u001b[0m in \u001b[0;36m_create_session\u001b[1;34m(self)\u001b[0m\n\u001b[0;32m    501\u001b[0m             \u001b[0mself\u001b[0m\u001b[1;33m.\u001b[0m\u001b[0m_session\u001b[0m\u001b[1;33m.\u001b[0m\u001b[0mauth\u001b[0m \u001b[1;33m=\u001b[0m \u001b[0mself\u001b[0m\u001b[1;33m.\u001b[0m\u001b[0m_custom_auth\u001b[0m\u001b[1;33m\u001b[0m\u001b[1;33m\u001b[0m\u001b[0m\n\u001b[0;32m    502\u001b[0m             \u001b[0mself\u001b[0m\u001b[1;33m.\u001b[0m\u001b[0m_auth\u001b[0m \u001b[1;33m=\u001b[0m \u001b[1;34m\"CUSTOM\"\u001b[0m\u001b[1;33m\u001b[0m\u001b[1;33m\u001b[0m\u001b[0m\n\u001b[1;32m--> 503\u001b[1;33m         \u001b[1;32melif\u001b[0m \u001b[0mself\u001b[0m\u001b[1;33m.\u001b[0m\u001b[0m_auth\u001b[0m\u001b[1;33m.\u001b[0m\u001b[0mlower\u001b[0m\u001b[1;33m(\u001b[0m\u001b[1;33m)\u001b[0m \u001b[1;33m==\u001b[0m \u001b[1;34m\"home\"\u001b[0m\u001b[1;33m:\u001b[0m\u001b[1;33m\u001b[0m\u001b[1;33m\u001b[0m\u001b[0m\n\u001b[0m\u001b[0;32m    504\u001b[0m             \u001b[1;32mfrom\u001b[0m \u001b[0marcgis\u001b[0m\u001b[1;33m.\u001b[0m\u001b[0mauth\u001b[0m\u001b[1;33m.\u001b[0m\u001b[0m_auth\u001b[0m\u001b[1;33m.\u001b[0m\u001b[0m_notebook\u001b[0m \u001b[1;32mimport\u001b[0m \u001b[0mEsriNotebookAuth\u001b[0m\u001b[1;33m\u001b[0m\u001b[1;33m\u001b[0m\u001b[0m\n\u001b[0;32m    505\u001b[0m \u001b[1;33m\u001b[0m\u001b[0m\n",
      "\u001b[1;31mAttributeError\u001b[0m: 'NoneType' object has no attribute 'lower'"
     ]
    }
   ],
   "source": [
    "gis = GIS(profile='agol')\n",
    "\n",
    "gis"
   ]
  },
  {
   "cell_type": "code",
   "execution_count": 13,
   "metadata": {},
   "outputs": [
    {
     "data": {
      "text/plain": [
       "'https://geoenrichqa.arcgis.com/arcgis/rest/services/World/GeoenrichmentServer'"
      ]
     },
     "execution_count": 13,
     "metadata": {},
     "output_type": "execute_result"
    }
   ],
   "source": [
    "ge_url = gis.properties.helperServices.geoenrichment.url\n",
    "\n",
    "ge_url"
   ]
  },
  {
   "cell_type": "code",
   "execution_count": 22,
   "metadata": {},
   "outputs": [],
   "source": [
    "cntry_res = gis._con.get(ge_url + '/Geoenrichment/Countries')\n",
    "\n",
    "cntry_lst = cntry_res['countries']"
   ]
  },
  {
   "cell_type": "code",
   "execution_count": 26,
   "metadata": {},
   "outputs": [
    {
     "data": {
      "text/plain": [
       "{'id': 'AL',\n",
       " 'name': 'Albania',\n",
       " 'abbr3': 'ALB',\n",
       " 'altName': 'ALBANIA',\n",
       " 'continent': 'Europe',\n",
       " 'distanceUnits': 'Kilometers',\n",
       " 'esriUnits': 'esriKilometers',\n",
       " 'defaultExtent': {'xmin': 19.2627565462,\n",
       "  'ymin': 39.6444975717,\n",
       "  'xmax': 21.0578285374,\n",
       "  'ymax': 42.6610482403,\n",
       "  'spatialReference': {'wkid': 4326, 'latestWkid': 4326}},\n",
       " 'defaultDatasetID': 'ALB_MBR_2021',\n",
       " 'datasets': ['ALB_MBR_2021'],\n",
       " 'hierarchies': [{'ID': 'census',\n",
       "   'alias': 'AL Standard Data',\n",
       "   'shortDescription': 'This data source for the standard AL data is Michael Bauer Research (MBR). Vintage 2021.',\n",
       "   'default': True,\n",
       "   'longDescription': 'This data source for the standard AL data is Michael Bauer Research (MBR). Vintage 2021.',\n",
       "   'locales': ['en'],\n",
       "   'datasets': ['ALB_MBR_2021'],\n",
       "   'levelsInfo': {'geographyLevels': ['Country',\n",
       "     'Postcodes1',\n",
       "     'Counties',\n",
       "     'Postcodes2',\n",
       "     'Municipalities']},\n",
       "   'variablesInfo': {'categories': ['Age',\n",
       "     'Education',\n",
       "     'Households',\n",
       "     'Income',\n",
       "     'Jobs',\n",
       "     'Key Facts',\n",
       "     'Population',\n",
       "     'Spending'],\n",
       "    'dataBrowserVariableCount': 120},\n",
       "   'populationToPolygonSizeRating': 3.48,\n",
       "   'apportionmentConfidence': 2.79,\n",
       "   'apportionmentThresholds': [{'method': 'BlockApportion',\n",
       "     'dataLayer': 'AL.Municipalities',\n",
       "     'pointsLayer': 'AL.BlockPoints',\n",
       "     'maximumSize': 150.0},\n",
       "    {'method': 'CentroidsInPolygon', 'dataLayer': 'AL.Municipalities'}],\n",
       "   'hasInterestingFactsStatistics': True}],\n",
       " 'defaultDataCollection': 'KeyGlobalFacts',\n",
       " 'defaultReport': 'AlbaniaSummaryReport',\n",
       " 'defaultReportTemplate': 'Albania Summary Report',\n",
       " 'defaultInfographic': 'key-facts-global',\n",
       " 'defaultInfographicTemplate': 'Key Facts (MBR)',\n",
       " 'currencyCode': 'ALL',\n",
       " 'currencyName': 'Albanian Lek',\n",
       " 'currencySymbol': 'ALL',\n",
       " 'currencyFormat': 'ALL\\xa00;-ALL\\xa00',\n",
       " 'dataCollections': ''}"
      ]
     },
     "execution_count": 26,
     "metadata": {},
     "output_type": "execute_result"
    }
   ],
   "source": [
    "cntry_dict = cntry_lst[0]\n",
    "\n",
    "cntry_dict"
   ]
  },
  {
   "cell_type": "code",
   "execution_count": null,
   "metadata": {},
   "outputs": [],
   "source": [
    "class Country(object):\n",
    "    \n",
    "    def __init__(self, cntry_dict: dict) -> None:\n",
    "        self.dict = cntry_dict\n",
    "        self.name = self.dict['name']\n",
    "        self.iso3 = self.dict['abbr3']\n",
    "        self.hierarchies = [CountryHierarchy(h) for h in self.dict['hierarchies']]\n",
    "        \n",
    "class CountryHierarchy(object):\n",
    "    \n",
    "    def __init__(self, hrchy_dict: dict) -> None:\n",
    "        self.dict = hrchy_dict\n",
    "        self.id = self.dict['ID']"
   ]
  }
 ],
 "metadata": {
  "kernelspec": {
   "display_name": "Python 3",
   "language": "python",
   "name": "python3"
  },
  "language_info": {
   "codemirror_mode": {
    "name": "ipython",
    "version": 3
   },
   "file_extension": ".py",
   "mimetype": "text/x-python",
   "name": "python",
   "nbconvert_exporter": "python",
   "pygments_lexer": "ipython3",
   "version": "3.9.11"
  }
 },
 "nbformat": 4,
 "nbformat_minor": 4
}
